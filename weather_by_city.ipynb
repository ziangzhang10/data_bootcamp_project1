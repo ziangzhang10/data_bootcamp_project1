{
 "cells": [
  {
   "cell_type": "code",
   "execution_count": 1,
   "metadata": {},
   "outputs": [
    {
     "name": "stderr",
     "output_type": "stream",
     "text": [
      "C:\\Users\\Zi-Ang\\Anaconda3\\lib\\site-packages\\ipykernel\\parentpoller.py:116: UserWarning: Parent poll failed.  If the frontend dies,\n",
      "                the kernel may be left running.  Please let us know\n",
      "                about your system (bitness, Python, etc.) at\n",
      "                ipython-dev@scipy.org\n",
      "  ipython-dev@scipy.org\"\"\")\n"
     ]
    }
   ],
   "source": [
    "# Necessary libraries\n",
    "import os\n",
    "import sys\n",
    "import csv\n",
    "import math\n",
    "import matplotlib.pyplot as plt\n",
    "import pandas as pd\n",
    "import scipy.stats as stats\n",
    "\n",
    "from pprint import pprint\n",
    "import json"
   ]
  },
  {
   "cell_type": "code",
   "execution_count": null,
   "metadata": {},
   "outputs": [],
   "source": [
    "# Ach so...\n",
    "\n",
    "# Import the city code data provided by Openweathermap to check\n",
    "city_list_path = os.path.join(\"HistoricalWeatherByCity\", \"city.list.json\")\n",
    "\n",
    "# read in the file\n",
    "with open(city_list_path, encoding=\"utf8\") as fp:     # must use UTF8 or you'll be in trouble\n",
    "    city_list_data = fp.read()\n",
    "    city_list_json = json.loads(city_list_data)       # seems like reading from string is faster than reading directly from file handle\n",
    "    pprint(city_list_json)"
   ]
  }
 ],
 "metadata": {
  "kernelspec": {
   "display_name": "Python 3",
   "language": "python",
   "name": "python3"
  },
  "language_info": {
   "codemirror_mode": {
    "name": "ipython",
    "version": 3
   },
   "file_extension": ".py",
   "mimetype": "text/x-python",
   "name": "python",
   "nbconvert_exporter": "python",
   "pygments_lexer": "ipython3",
   "version": "3.7.0"
  }
 },
 "nbformat": 4,
 "nbformat_minor": 2
}
